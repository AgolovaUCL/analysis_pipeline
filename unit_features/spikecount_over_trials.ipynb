{
 "cells": [
  {
   "cell_type": "code",
   "execution_count": 15,
   "id": "f7516dcd",
   "metadata": {},
   "outputs": [],
   "source": [
    "import numpy as np\n",
    "import os\n",
    "import glob\n",
    "import pandas as pd\n",
    "import spikeinterface.extractors as se\n",
    "import matplotlib.pyplot as plt\n",
    "from tqdm import tqdm\n",
    "from scipy.ndimage import gaussian_filter\n",
    "import json\n",
    "import re\n",
    "\n",
    "import warnings\n",
    "from astropy.stats import circmean\n",
    "%matplotlib inline\n",
    "from astropy.convolution import convolve, convolve_fft\n",
    "from skimage.draw import disk\n",
    "from pathlib import Path\n"
   ]
  },
  {
   "cell_type": "code",
   "execution_count": 2,
   "id": "e89d3c1f",
   "metadata": {},
   "outputs": [],
   "source": [
    "d = 1\n",
    "if d == 1:\n",
    "    derivatives_base = r\"D:\\Spatiotemporal_task\\derivatives\\sub-002_id-1U\\ses-01_date-02072025\\all_trials\"\n",
    "    rawsession_folder = r\"D:\\Spatiotemporal_task\\rawdata\\sub-002_id-1U\\ses-01_date-02072025\"\n",
    "    trials_to_include = np.arange(1,9)\n",
    "elif d == 2:\n",
    "    derivatives_base = r\"D:\\Spatiotemporal_task\\derivatives\\sub-002_id-1U\\ses-02_date-03072025\\all_trials\"\n",
    "    rawsession_folder = r\"D:\\Spatiotemporal_task\\rawdata\\sub-002_id-1U\\ses-02_date-03072025\"\n",
    "    trials_to_include = np.arange(4,10)\n",
    "else:\n",
    "    derivatives_base = r\"Z:\\Eylon\\Data\\Honeycomb_Maze_Task\\derivatives\\sub-001_id-2B\\ses-05_test\\all_trials\"\n",
    "    rawsession_folder = r\"Z:\\Eylon\\Data\\Honeycomb_Maze_Task\\rawdata\\sub-001_id-2B\\ses-05_test\"\n",
    "    trials_to_include = np.array([1,2])\n",
    "frame_rate = 30\n",
    "sample_rate = 30000\n",
    "\n"
   ]
  },
  {
   "cell_type": "code",
   "execution_count": 1,
   "id": "b43672ac",
   "metadata": {},
   "outputs": [
    {
     "ename": "NameError",
     "evalue": "name 'trial_length_df' is not defined",
     "output_type": "error",
     "traceback": [
      "\u001b[31m---------------------------------------------------------------------------\u001b[39m",
      "\u001b[31mNameError\u001b[39m                                 Traceback (most recent call last)",
      "\u001b[36mCell\u001b[39m\u001b[36m \u001b[39m\u001b[32mIn[1]\u001b[39m\u001b[32m, line 1\u001b[39m\n\u001b[32m----> \u001b[39m\u001b[32m1\u001b[39m \u001b[43mtrial_length_df\u001b[49m.trialnumber\n",
      "\u001b[31mNameError\u001b[39m: name 'trial_length_df' is not defined"
     ]
    }
   ],
   "source": [
    "trial_length_df.trialnumber"
   ]
  },
  {
   "cell_type": "code",
   "execution_count": 3,
   "id": "101dac38",
   "metadata": {},
   "outputs": [],
   "source": [
    "# Load data files\n",
    "kilosort_output_path = os.path.join(derivatives_base, \"ephys\", \"concat_run\",\"sorting\", \"sorter_output\" )\n",
    "sorting = se.read_kilosort(\n",
    "    folder_path = kilosort_output_path\n",
    ")\n",
    "unit_ids = sorting.unit_ids\n",
    "labels = sorting.get_property('KSLabel')\n",
    "good_units_ids = [el for el in unit_ids if labels[el] == 'good']\n",
    "\n",
    "# Get the data with the epoch times\n",
    "csv_path = os.path.join(rawsession_folder, 'task_metadata', 'timestamps.csv')\n",
    "xlsx_path = os.path.join(rawsession_folder, 'task_metadata', 'timestamps.xlsx')\n",
    "if os.path.exists(csv_path):\n",
    "    epoch_times = pd.read_csv(csv_path)\n",
    "elif os.path.exists(xlsx_path):\n",
    "    epoch_times = pd.read_excel(xlsx_path)\n",
    "else:\n",
    "    raise FileNotFoundError(f\"Epoch times file does not exist: {csv_path} or {xlsx_path}\")\n"
   ]
  },
  {
   "cell_type": "code",
   "execution_count": 70,
   "id": "398a7c4f",
   "metadata": {},
   "outputs": [],
   "source": [
    "\n",
    "bin_length = 60\n",
    "output_folder = os.path.join(derivatives_base, \"cell_characteristics\", \"unit_features\", \"spikecount_over_trials\")\n",
    "if not os.path.exists(output_folder):\n",
    "    os.makedirs(output_folder)\n",
    "# Loading data\n",
    "for unit_id in tqdm(unit_ids): \n",
    "    \n",
    "    output_path = os.path.join(output_folder, f\"unit_{unit_id}_sc_over_trials.png\")\n",
    "    \n",
    "    spike_train_unscaled = sorting.get_unit_spike_train(unit_id=unit_id)\n",
    "    spike_train = np.round(spike_train_unscaled/sample_rate) # spike times in seconds\n",
    "\n",
    "    total_trial_length = 0\n",
    "    for tr in trials_to_include:\n",
    "        trial_row = trial_length_df[(trial_length_df.trialnumber == tr)]\n",
    "        trial_length = trial_row.iloc[0, 2]\n",
    "        total_trial_length += trial_length\n",
    "\n",
    "    n_bins = total_trial_length/bin_length\n",
    "\n",
    "\n",
    "\n",
    "    # Simulated adjacent trials\n",
    "    trial_lengths = np.array(trial_length_df['trial length (s)'])\n",
    "    trial_ends = np.cumsum(trial_lengths)\n",
    "    trial_starts = np.concatenate(([0], trial_ends[:-1]))\n",
    "\n",
    "    # Plot\n",
    "    fig =  plt.figure(figsize=(12, 5))\n",
    "    plt.hist(spike_train, bins = np.int32(n_bins))\n",
    "\n",
    "    # Vertical lines at trial boundaries\n",
    "    for start in trial_starts[1:]:\n",
    "        plt.axvline(x=start, color='black', linestyle='--', linewidth=1)\n",
    "    plt.axvline(x=trial_ends[-1], color='black', linestyle='--', linewidth=1)\n",
    "\n",
    "    # Get current y-axis limits\n",
    "    ymin, ymax = plt.ylim()\n",
    "\n",
    "    # Label position: slightly below the top of the y-axis\n",
    "    label_y = ymax\n",
    "\n",
    "    # Place trial labels\n",
    "    for i, (start, end) in enumerate(zip(trial_starts, trial_ends)):\n",
    "        mid = (start + end) / 2\n",
    "        plt.text(mid, label_y, f'Trial {i+1}',\n",
    "                ha='center', va='top', fontsize=9, color='black')\n",
    "\n",
    "    # Optional: adjust y-limit if you want more headroom\n",
    "    plt.ylim(ymin, ymax * 1.05)\n",
    "    plt.xlim(0, np.max(trial_ends))\n",
    "    # Axis labels and title\n",
    "    plt.xlabel(\"Time (seconds)\")\n",
    "    plt.ylabel(\"Number of spikes per minute\")\n",
    "    plt.title(f\"Unit {unit_id}: Spike count across trials\")\n",
    "    plt.tight_layout()\n",
    "    fig.savefig(output_path)\n",
    "    plt.close()\n",
    "plt.show()\n",
    "\n",
    "\n"
   ]
  },
  {
   "cell_type": "code",
   "execution_count": 54,
   "id": "e343cb22",
   "metadata": {},
   "outputs": [
    {
     "data": {
      "text/plain": [
       "array([ 448.52763333,  748.17966667, 1284.5697    , 1652.37946667,\n",
       "       2165.2108    , 2562.4263    , 2866.61963333])"
      ]
     },
     "execution_count": 54,
     "metadata": {},
     "output_type": "execute_result"
    }
   ],
   "source": [
    "trial_starts"
   ]
  },
  {
   "cell_type": "code",
   "execution_count": 48,
   "id": "7de68d0b",
   "metadata": {},
   "outputs": [
    {
     "data": {
      "image/png": "[encoded data removed]",
      "text/plain": [
       "<Figure size 1200x500 with 1 Axes>"
      ]
     },
     "metadata": {},
     "output_type": "display_data"
    }
   ],
   "source": [
    "import matplotlib.pyplot as plt\n",
    "import numpy as np\n",
    "\n",
    "# Simulated data: smiles per minute for 60 minutes\n",
    "minutes = np.arange(60)\n",
    "smiles_per_minute = np.random.poisson(5, size=60)\n",
    "\n",
    "# Simulated adjacent trials\n",
    "trial_lengths = [10, 12, 8, 15, 15]\n",
    "trial_starts = np.cumsum([0] + trial_lengths[:-1])\n",
    "trial_ends = np.cumsum(trial_lengths)\n",
    "\n",
    "# Plot\n",
    "plt.figure(figsize=(12, 5))\n",
    "plt.bar(minutes, smiles_per_minute, width=1.0, color='steelblue', label='Smiles/min')\n",
    "\n",
    "# Vertical lines at trial boundaries\n",
    "for start in trial_starts:\n",
    "    plt.axvline(x=start, color='black', linestyle='--', linewidth=1)\n",
    "plt.axvline(x=trial_ends[-1], color='black', linestyle='--', linewidth=1)\n",
    "\n",
    "# Get current y-axis limits\n",
    "ymin, ymax = plt.ylim()\n",
    "\n",
    "# Label position: slightly below the top of the y-axis\n",
    "label_y = ymax\n",
    "\n",
    "# Place trial labels\n",
    "for i, (start, end) in enumerate(zip(trial_starts, trial_ends)):\n",
    "    mid = (start + end) / 2\n",
    "    plt.text(mid, label_y, f'Trial {i+1}',\n",
    "             ha='center', va='top', fontsize=9, color='black')\n",
    "\n",
    "# Optional: adjust y-limit if you want more headroom\n",
    "plt.ylim(ymin, ymax * 1.05)\n",
    "\n",
    "# Axis labels and title\n",
    "plt.xlabel(\"Time (minutes)\")\n",
    "plt.ylabel(\"Smiles per minute\")\n",
    "plt.title(\"Smiles per Minute with Adjacent Trials Indicated\")\n",
    "plt.tight_layout()\n",
    "plt.show()\n"
   ]
  }
 ],
 "metadata": {
  "kernelspec": {
   "display_name": "processing_pipeline",
   "language": "python",
   "name": "python3"
  },
  "language_info": {
   "codemirror_mode": {
    "name": "ipython",
    "version": 3
   },
   "file_extension": ".py",
   "mimetype": "text/x-python",
   "name": "python",
   "nbconvert_exporter": "python",
   "pygments_lexer": "ipython3",
   "version": "3.12.3"
  }
 },
 "nbformat": 4,
 "nbformat_minor": 5
}
