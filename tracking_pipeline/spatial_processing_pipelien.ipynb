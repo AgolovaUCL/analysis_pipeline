{
 "cells": [
  {
   "cell_type": "code",
   "execution_count": null,
   "id": "3cbdb9c4",
   "metadata": {},
   "outputs": [],
   "source": [
    "import numpy as np\n",
    "from run_inference_inSleapEnv import call_inference_on_all\n",
    "from run_movement import run_movement\n",
    "#from overlay_video_HD import overlay_video_HD\n",
    "import subprocess\n",
    "import json\n",
    "from pathlib import Path\n",
    "\n",
    "# You can find environments by activating it in anaconda prompt and doing echo %CONDA_PREFIX% (Windows)\n",
    "# For Eylons comp\n",
    "sleap_env_path = r\"C:\\Users\\eylon\\.conda\\envs\\sleap\\python.exe\"\n",
    "movement_env_path = r\"C:\\Users\\eylon\\.conda\\envs\\movement-env\\python.exe\"\n",
    "\n",
    "# For Sophia's comp\n",
    "sleap_env_path = r\"C:\\Users\\Sophia\\AppData\\Local\\anaconda3\\envs\\sleap_new\\python.exe\"\n",
    "movement_env_path = r\"C:\\Users\\Sophia\\AppData\\Local\\anaconda3\\envs\\movement-env2\\python.exe\"\n",
    "\n",
    "trials_to_include = np.array([2])\n",
    "\n",
    "derivatives_base = r\"C:\\Honeycomb_maze_task\\derivatives\\sub-002_id-1R\\ses-01_date-10092025\\all_trials\"\n",
    "rawsession_folder = r\"C:\\Honeycomb_maze_task\\rawdata\\sub-002_id-1R\\ses-01_date-10092025\"\n",
    "centroid_model_folder = r\"Z:\\Eylon\\SLEAP_NEWCAMERA_21072025\\models\\251001_114517.centroid.n=1993\"\n",
    "centered_model_folder = r\"Z:\\Eylon\\SLEAP_NEWCAMERA_21072025\\models\\251001_131852.centered_instance.n=1993\"\n",
    "\n",
    "\n",
    "call_inference_on_all(derivatives_base, rawsession_folder, centered_model_folder, centered_model_folder)\n",
    "run_movement(derivatives_base, trials_to_include)\n",
    "\n",
    "#run_movement(derivatives_base, trials_to_include, frame_rate = 25)\n",
    "#overlay_video_HD(derivatives_base, rawsession_folder, trials_to_include)"
   ]
  }
 ],
 "metadata": {
  "language_info": {
   "name": "python"
  }
 },
 "nbformat": 4,
 "nbformat_minor": 5
}
